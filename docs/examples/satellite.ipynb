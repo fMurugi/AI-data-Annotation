{
  "cells": [
    {
      "cell_type": "markdown",
      "metadata": {
        "id": "view-in-github",
        "colab_type": "text"
      },
      "source": [
        "<a href=\"https://colab.research.google.com/github/fMurugi/AI-data-Annotation/blob/main/docs/examples/satellite.ipynb\" target=\"_parent\"><img src=\"https://colab.research.google.com/assets/colab-badge.svg\" alt=\"Open In Colab\"/></a>"
      ]
    },
    {
      "cell_type": "markdown",
      "metadata": {
        "id": "hajtfNU_fdMj"
      },
      "source": [
        "# Segment Anything Model for Geospatial Data\n",
        "\n"
      ]
    },
    {
      "cell_type": "markdown",
      "metadata": {
        "id": "1z56q8h3fdMn"
      },
      "source": [
        "## Install dependencies\n",
        "\n"
      ]
    },
    {
      "cell_type": "code",
      "execution_count": null,
      "metadata": {
        "id": "8VD5cBH2fdMp"
      },
      "outputs": [],
      "source": [
        " %pip install segment-geospatial"
      ]
    },
    {
      "cell_type": "markdown",
      "metadata": {
        "id": "jdqhBUMNfdMs"
      },
      "source": [
        "## Import libraries"
      ]
    },
    {
      "cell_type": "code",
      "execution_count": null,
      "metadata": {
        "id": "XDqZCwYffdMv"
      },
      "outputs": [],
      "source": [
        "import os\n",
        "import leafmap\n",
        "from samgeo import SamGeo, tms_to_geotiff, get_basemaps"
      ]
    },
    {
      "cell_type": "markdown",
      "metadata": {
        "id": "yMmMT5XzfdMx"
      },
      "source": [
        "## interactive map"
      ]
    },
    {
      "cell_type": "code",
      "execution_count": null,
      "metadata": {
        "id": "Zgp-8PYsfdMz"
      },
      "outputs": [],
      "source": [
        "m = leafmap.Map(center=[29.676840, -95.369222], zoom=19)\n",
        "m.add_basemap(\"SATELLITE\")\n",
        "m"
      ]
    },
    {
      "cell_type": "markdown",
      "metadata": {
        "id": "uWjWYvTUfdM0"
      },
      "source": [
        "Pan and zoom the map to select the area of interest. Use the draw tools to draw a polygon or rectangle on the map"
      ]
    },
    {
      "cell_type": "code",
      "execution_count": null,
      "metadata": {
        "id": "DBTlCrusfdM3"
      },
      "outputs": [],
      "source": [
        "if m.user_roi_bounds() is not None:\n",
        "    bbox = m.user_roi_bounds()\n",
        "else:\n",
        "    bbox = [-95.3704, 29.6762, -95.368, 29.6775]"
      ]
    },
    {
      "cell_type": "markdown",
      "metadata": {
        "id": "jjYJDyjyfdM7"
      },
      "source": [
        "## Download map tiles\n",
        "\n",
        "Download maps tiles and\n",
        "store/save them into a single GeoTIFF file"
      ]
    },
    {
      "cell_type": "code",
      "execution_count": null,
      "metadata": {
        "id": "ODvNilMBfdM9"
      },
      "outputs": [],
      "source": [
        "image = \"satellite.tif\""
      ]
    },
    {
      "cell_type": "markdown",
      "metadata": {
        "id": "D0R3bHBxfdNA"
      },
      "source": [
        "Besides the `satellite` basemap, you can use any of the following basemaps\n",
        "\n",
        "1.   List item\n",
        "2.   List item\n",
        "\n",
        "returned by the `get_basemaps()` function:"
      ]
    },
    {
      "cell_type": "code",
      "execution_count": null,
      "metadata": {
        "id": "ZvekF3hnfdNC"
      },
      "outputs": [],
      "source": [
        "# get_basemaps().keys()"
      ]
    },
    {
      "cell_type": "markdown",
      "metadata": {
        "id": "IO61VaQ-fdNE"
      },
      "source": [
        "Specify the basemap as the source."
      ]
    },
    {
      "cell_type": "code",
      "execution_count": null,
      "metadata": {
        "id": "dgn2d7sbfdNF"
      },
      "outputs": [],
      "source": [
        "tms_to_geotiff(output=image, bbox=bbox, zoom=20, source=\"Satellite\", overwrite=True)"
      ]
    },
    {
      "cell_type": "markdown",
      "metadata": {
        "id": "E1DuhZhifdNG"
      },
      "source": [
        "You can also use your own image. Uncomment and run the following cell to use your own image."
      ]
    },
    {
      "cell_type": "code",
      "execution_count": null,
      "metadata": {
        "id": "9EEluopQfdNH"
      },
      "outputs": [],
      "source": [
        "# image = '/path/to/your/own/image.tif'"
      ]
    },
    {
      "cell_type": "markdown",
      "metadata": {
        "id": "vrnNuqnGfdNK"
      },
      "source": [
        "Display the downloaded image on the map."
      ]
    },
    {
      "cell_type": "code",
      "execution_count": null,
      "metadata": {
        "id": "Q1g7lQ_rfdNL"
      },
      "outputs": [],
      "source": [
        "m.layers[-1].visible = False  # turn off the basemap\n",
        "m.add_raster(image, layer_name=\"Image\")\n",
        "m"
      ]
    },
    {
      "cell_type": "markdown",
      "metadata": {
        "id": "ADNEmk13fdNM"
      },
      "source": [
        "![](https://i.imgur.com/KAm84IY.png)"
      ]
    },
    {
      "cell_type": "markdown",
      "metadata": {
        "id": "ohz49sznfdNM"
      },
      "source": [
        "## Initialize SAM class"
      ]
    },
    {
      "cell_type": "code",
      "execution_count": null,
      "metadata": {
        "id": "tjHk97oMfdNM"
      },
      "outputs": [],
      "source": [
        "sam = SamGeo(\n",
        "    model_type=\"vit_h\",\n",
        "    checkpoint=\"sam_vit_h_4b8939.pth\",\n",
        "    sam_kwargs=None,\n",
        ")"
      ]
    },
    {
      "cell_type": "markdown",
      "metadata": {
        "id": "EGyhKNfwfdNN"
      },
      "source": [
        "## Segment the image\n",
        "\n",
        "Set `batch=True` to segment the image in batches. This is useful for large images that cannot fit in memory."
      ]
    },
    {
      "cell_type": "code",
      "execution_count": null,
      "metadata": {
        "id": "YoPdpzt_fdNO"
      },
      "outputs": [],
      "source": [
        "mask = \"segment.tif\"\n",
        "sam.generate(\n",
        "    image, mask, batch=True, foreground=True, erosion_kernel=(3, 3), mask_multiplier=255\n",
        ")"
      ]
    },
    {
      "cell_type": "markdown",
      "metadata": {
        "id": "3eCNzG8FfdNP"
      },
      "source": [
        "## Polygonize the raster data\n",
        "\n",
        "Save the segmentation results as a GeoPackage file."
      ]
    },
    {
      "cell_type": "code",
      "execution_count": null,
      "metadata": {
        "id": "6CdP2i7vfdNQ"
      },
      "outputs": [],
      "source": [
        "vector = \"segment.gpkg\"\n",
        "sam.tiff_to_gpkg(mask, vector, simplify_tolerance=None)"
      ]
    },
    {
      "cell_type": "markdown",
      "metadata": {
        "id": "n180NApYfdNQ"
      },
      "source": [
        "You can also save the segmentation results as any vector data format supported by GeoPandas."
      ]
    },
    {
      "cell_type": "code",
      "execution_count": null,
      "metadata": {
        "id": "THLgXdn3fdNR"
      },
      "outputs": [],
      "source": [
        "shapefile = \"segment.shp\"\n",
        "sam.tiff_to_vector(mask, shapefile)"
      ]
    },
    {
      "cell_type": "markdown",
      "metadata": {
        "id": "N847UTIEfdNR"
      },
      "source": [
        "## Visualize the results"
      ]
    },
    {
      "cell_type": "code",
      "execution_count": null,
      "metadata": {
        "id": "RCgEmmoKfdNS"
      },
      "outputs": [],
      "source": [
        "style = {\n",
        "    \"color\": \"#3388ff\",\n",
        "    \"weight\": 2,\n",
        "    \"fillColor\": \"#7c4185\",\n",
        "    \"fillOpacity\": 0.5,\n",
        "}\n",
        "m.add_vector(vector, layer_name=\"Vector\", style=style)\n",
        "m"
      ]
    },
    {
      "cell_type": "markdown",
      "metadata": {
        "id": "h6w9Wyk8fdNT"
      },
      "source": [
        "![](https://i.imgur.com/Ysq3u7E.png)"
      ]
    }
  ],
  "metadata": {
    "accelerator": "GPU",
    "colab": {
      "provenance": [],
      "include_colab_link": true
    },
    "gpuClass": "standard",
    "kernelspec": {
      "display_name": "Python 3",
      "name": "python3"
    },
    "language_info": {
      "codemirror_mode": {
        "name": "ipython",
        "version": 3
      },
      "file_extension": ".py",
      "mimetype": "text/x-python",
      "name": "python",
      "nbconvert_exporter": "python",
      "pygments_lexer": "ipython3",
      "version": "3.9.16"
    }
  },
  "nbformat": 4,
  "nbformat_minor": 0
}